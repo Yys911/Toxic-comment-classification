{
 "cells": [
  {
   "cell_type": "code",
   "execution_count": 1,
   "metadata": {
    "pycharm": {
     "name": "#%%\n"
    },
    "id": "IH_HUVQwimus",
    "executionInfo": {
     "status": "ok",
     "timestamp": 1657838265514,
     "user_tz": -60,
     "elapsed": 3918,
     "user": {
      "displayName": "Y. Z.",
      "userId": "06738213615363054926"
     }
    }
   },
   "outputs": [],
   "source": [
    "import os\n",
    "import pandas as pd\n",
    "import tensorflow\n",
    "import tensorflow as tf\n",
    "import numpy as np\n",
    "from tensorflow.keras.layers import TextVectorization"
   ]
  },
  {
   "cell_type": "code",
   "execution_count": null,
   "outputs": [],
   "source": [
    "from google.colab import drive\n",
    "drive.mount('/content/drive')"
   ],
   "metadata": {
    "collapsed": false,
    "pycharm": {
     "name": "#%%\n"
    }
   }
  },
  {
   "cell_type": "code",
   "execution_count": null,
   "outputs": [],
   "source": [
    "train = pd.read_csv(r\"/content/drive/MyDrive/Colab Notebooks/toxity/train.csv\")\n",
    "test = pd.read_csv(r\"/content/drive/MyDrive/Colab Notebooks/toxity/test.csv\")\n",
    "test_lable= pd.read_csv(r\"/content/drive/MyDrive/Colab Notebooks/toxity/test_labels.csv\")\n",
    "train.head()"
   ],
   "metadata": {
    "collapsed": false,
    "pycharm": {
     "name": "#%%\n"
    }
   }
  },
  {
   "cell_type": "code",
   "execution_count": null,
   "outputs": [],
   "source": [
    "x = train['comment_text']\n",
    "y = train[train.columns[2:]].values\n",
    "MAX_FEATURES = 200000  # number of words\n",
    "vectorizer = TextVectorization(max_tokens = MAX_FEATURES,\n",
    "                               output_mode = 'int',\n",
    "                               output_sequence_length = 1800\n",
    "                               )"
   ],
   "metadata": {
    "collapsed": false,
    "pycharm": {
     "name": "#%%\n"
    }
   }
  },
  {
   "cell_type": "code",
   "execution_count": null,
   "outputs": [],
   "source": [
    "vectorizer.adapt(x.values)\n",
    "vectorized_text = vectorizer(x.values)"
   ],
   "metadata": {
    "collapsed": false,
    "pycharm": {
     "name": "#%%\n"
    }
   }
  },
  {
   "cell_type": "code",
   "execution_count": null,
   "outputs": [],
   "source": [
    "dataset = tf.data.Dataset.from_tensor_slices((vectorized_text, y))\n",
    "dataset = dataset.cache()\n",
    "dataset = dataset.shuffle(160000)\n",
    "dataset = dataset.batch(16)\n",
    "dataset = dataset.prefetch(8)"
   ],
   "metadata": {
    "collapsed": false,
    "pycharm": {
     "name": "#%%\n"
    }
   }
  },
  {
   "cell_type": "code",
   "execution_count": null,
   "outputs": [],
   "source": [
    "dataset_train = dataset.take(int(len(dataset)*.7))\n",
    "dataset_val = dataset.skip(int(len(dataset)*.7)).take(int(len(dataset)*.3))"
   ],
   "metadata": {
    "collapsed": false,
    "pycharm": {
     "name": "#%%\n"
    }
   }
  },
  {
   "cell_type": "code",
   "execution_count": null,
   "outputs": [],
   "source": [
    "train_generator = dataset.as_numpy_iterator()"
   ],
   "metadata": {
    "collapsed": false,
    "pycharm": {
     "name": "#%%\n"
    }
   }
  },
  {
   "cell_type": "markdown",
   "source": [
    "# 2. Training"
   ],
   "metadata": {
    "collapsed": false,
    "pycharm": {
     "name": "#%% md\n"
    }
   }
  },
  {
   "cell_type": "code",
   "execution_count": null,
   "outputs": [],
   "source": [
    "from tensorflow.keras import Sequential\n",
    "from tensorflow.keras.layers import LSTM, Dropout, Bidirectional, Dense, Embedding"
   ],
   "metadata": {
    "collapsed": false,
    "pycharm": {
     "name": "#%%\n"
    }
   }
  },
  {
   "cell_type": "code",
   "execution_count": null,
   "outputs": [],
   "source": [
    "model = Sequential([Embedding(MAX_FEATURES+1, 32),\n",
    "                    Bidirectional(LSTM(32,activation='tanh')),\n",
    "                    Dense(128,activation='relu'),\n",
    "                    Dense(256,activation='relu'),\n",
    "                    Dense(128,activation='relu'),\n",
    "                    Dense(6,activation='sigmoid')])\n",
    "model.compile(loss=tf.metrics.binary_crossentropy,optimizer='Adam')\n",
    "model.summary()"
   ],
   "metadata": {
    "collapsed": false,
    "pycharm": {
     "name": "#%%\n"
    }
   }
  },
  {
   "cell_type": "code",
   "execution_count": null,
   "outputs": [],
   "source": [
    "history = model.fit(dataset_train, epochs=10, validation_data=dataset_val)"
   ],
   "metadata": {
    "collapsed": false,
    "pycharm": {
     "name": "#%%\n"
    }
   }
  },
  {
   "cell_type": "code",
   "execution_count": null,
   "outputs": [],
   "source": [
    "model.save('savedmodel.h5')"
   ],
   "metadata": {
    "collapsed": false,
    "pycharm": {
     "name": "#%%\n"
    }
   }
  },
  {
   "cell_type": "markdown",
   "source": [
    "# 3. Make predictions"
   ],
   "metadata": {
    "collapsed": false,
    "pycharm": {
     "name": "#%% md\n"
    }
   }
  },
  {
   "cell_type": "code",
   "execution_count": null,
   "outputs": [],
   "source": [
    "test = vectorizer(test['comment_text'])\n",
    "yhat = np.around(model.predict(test))"
   ],
   "metadata": {
    "collapsed": false,
    "pycharm": {
     "name": "#%%\n"
    }
   }
  },
  {
   "cell_type": "markdown",
   "source": [
    "# 4. Evaluating"
   ],
   "metadata": {
    "collapsed": false,
    "pycharm": {
     "name": "#%% md\n"
    }
   }
  },
  {
   "cell_type": "code",
   "execution_count": null,
   "outputs": [],
   "source": [
    "from tensorflow.keras.metrics import Precision, Recall, CategoricalAccuracy"
   ],
   "metadata": {
    "collapsed": false,
    "pycharm": {
     "name": "#%%\n"
    }
   }
  },
  {
   "cell_type": "code",
   "execution_count": null,
   "outputs": [],
   "source": [
    "pre = Precision()\n",
    "rec = Recall()\n",
    "acc = CategoricalAccuracy()"
   ],
   "metadata": {
    "collapsed": false,
    "pycharm": {
     "name": "#%%\n"
    }
   }
  },
  {
   "cell_type": "code",
   "execution_count": null,
   "outputs": [],
   "source": [
    "y = test_lable[test_lable.columns[1:]].values.flatten()\n",
    "yhat = yhat.flatten()\n",
    "pre.update_state(y, yhat)\n",
    "rec.update_state(y, yhat)\n",
    "acc.update_state(y, yhat)\n",
    "print('Precision: %f\\nRecall: %f\\nAccuracy: %f\\n' % (pre.result(), rec.result(), acc.result()))"
   ],
   "metadata": {
    "collapsed": false,
    "pycharm": {
     "name": "#%%\n"
    }
   }
  },
  {
   "cell_type": "code",
   "source": [
    "pre = Precision()\n",
    "rec = Recall()\n",
    "acc = CategoricalAccuracy()"
   ],
   "metadata": {
    "id": "H0Xpnn2fwL9H",
    "executionInfo": {
     "status": "ok",
     "timestamp": 1657846412731,
     "user_tz": -60,
     "elapsed": 3,
     "user": {
      "displayName": "Y. Z.",
      "userId": "06738213615363054926"
     }
    }
   },
   "execution_count": 16,
   "outputs": []
  },
  {
   "cell_type": "code",
   "source": [
    "y = test_lable[test_lable.columns[1:]].values.flatten()\n",
    "yhat = yhat.flatten()\n",
    "pre.update_state(y, yhat)\n",
    "rec.update_state(y, yhat)\n",
    "acc.update_state(y, yhat)\n",
    "print('Precision: %f\\nRecall: %f\\nAccuracy: %f\\n' % (pre.result(), rec.result(), acc.result()))"
   ],
   "metadata": {
    "colab": {
     "base_uri": "https://localhost:8080/"
    },
    "id": "cL1f5HX-WMKH",
    "executionInfo": {
     "status": "ok",
     "timestamp": 1657847860030,
     "user_tz": -60,
     "elapsed": 4,
     "user": {
      "displayName": "Y. Z.",
      "userId": "06738213615363054926"
     }
    },
    "outputId": "2a3ab514-f6b8-4cb5-801c-f9472e822eb8"
   },
   "execution_count": 38,
   "outputs": [
    {
     "output_type": "stream",
     "name": "stdout",
     "text": [
      "Precision: 0.868370\n",
      "Recall: 0.117774\n",
      "Accuracy: 0.986672\n",
      "\n"
     ]
    }
   ]
  }
 ],
 "metadata": {
  "kernelspec": {
   "display_name": "Python 3 (ipykernel)",
   "language": "python",
   "name": "python3"
  },
  "language_info": {
   "codemirror_mode": {
    "name": "ipython",
    "version": 3
   },
   "file_extension": ".py",
   "mimetype": "text/x-python",
   "name": "python",
   "nbconvert_exporter": "python",
   "pygments_lexer": "ipython3",
   "version": "3.9.13"
  },
  "colab": {
   "name": "main.ipynb",
   "provenance": [],
   "collapsed_sections": []
  },
  "accelerator": "GPU",
  "gpuClass": "standard"
 },
 "nbformat": 4,
 "nbformat_minor": 0
}